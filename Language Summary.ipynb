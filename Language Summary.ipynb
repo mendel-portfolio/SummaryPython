{
 "cells": [
  {
   "cell_type": "markdown",
   "metadata": {},
   "source": [
    "# Python 3.x Language Summary\n",
    "\n",
    "Contents\n",
    "\n",
    "1. Help\n",
    "2. Grammer\n",
    "3. Input/Output\n",
    "4. Literals\n",
    "5. Variables\n",
    "6. Operators\n",
    "7. Flow Control\n",
    "8. OO\n",
    "\n",
    "<p>\n",
    "    "
   ]
  },
  {
   "cell_type": "markdown",
   "metadata": {},
   "source": [
    "## Help\n",
    "\n",
    "<hr>\n",
    "\n",
    "https://docs.python.org/3\n",
    "\n",
    "help()\n",
    "\n",
    "dir()\n",
    "\n",
    "<hr>"
   ]
  },
  {
   "cell_type": "markdown",
   "metadata": {},
   "source": [
    "#### help()\n",
    "\n",
    "    -displays documentation for keywords, functions, classes, modules, etc..\n",
    "    -if no argument is supplied, enters interactive mode\n",
    "\n",
    "<p>"
   ]
  },
  {
   "cell_type": "code",
   "execution_count": 1,
   "metadata": {
    "scrolled": true
   },
   "outputs": [
    {
     "name": "stdout",
     "output_type": "stream",
     "text": [
      "The \"if\" statement\n",
      "******************\n",
      "\n",
      "The \"if\" statement is used for conditional execution:\n",
      "\n",
      "   if_stmt ::= \"if\" expression \":\" suite\n",
      "               (\"elif\" expression \":\" suite)*\n",
      "               [\"else\" \":\" suite]\n",
      "\n",
      "It selects exactly one of the suites by evaluating the expressions one\n",
      "by one until one is found to be true (see section Boolean operations\n",
      "for the definition of true and false); then that suite is executed\n",
      "(and no other part of the \"if\" statement is executed or evaluated).\n",
      "If all expressions are false, the suite of the \"else\" clause, if\n",
      "present, is executed.\n",
      "\n",
      "Related help topics: TRUTHVALUE\n",
      "\n"
     ]
    }
   ],
   "source": [
    "help('if')"
   ]
  },
  {
   "cell_type": "code",
   "execution_count": 2,
   "metadata": {},
   "outputs": [
    {
     "name": "stdout",
     "output_type": "stream",
     "text": [
      "Help on built-in function print in module builtins:\n",
      "\n",
      "print(...)\n",
      "    print(value, ..., sep=' ', end='\\n', file=sys.stdout, flush=False)\n",
      "    \n",
      "    Prints the values to a stream, or to sys.stdout by default.\n",
      "    Optional keyword arguments:\n",
      "    file:  a file-like object (stream); defaults to the current sys.stdout.\n",
      "    sep:   string inserted between values, default a space.\n",
      "    end:   string appended after the last value, default a newline.\n",
      "    flush: whether to forcibly flush the stream.\n",
      "\n"
     ]
    }
   ],
   "source": [
    "help(print)"
   ]
  },
  {
   "cell_type": "code",
   "execution_count": 3,
   "metadata": {},
   "outputs": [
    {
     "name": "stdout",
     "output_type": "stream",
     "text": [
      "Help on class date in module datetime:\n",
      "\n",
      "class date(builtins.object)\n",
      " |  date(year, month, day) --> date object\n",
      " |  \n",
      " |  Methods defined here:\n",
      " |  \n",
      " |  __add__(self, value, /)\n",
      " |      Return self+value.\n",
      " |  \n",
      " |  __eq__(self, value, /)\n",
      " |      Return self==value.\n",
      " |  \n",
      " |  __format__(...)\n",
      " |      Formats self with strftime.\n",
      " |  \n",
      " |  __ge__(self, value, /)\n",
      " |      Return self>=value.\n",
      " |  \n",
      " |  __getattribute__(self, name, /)\n",
      " |      Return getattr(self, name).\n",
      " |  \n",
      " |  __gt__(self, value, /)\n",
      " |      Return self>value.\n",
      " |  \n",
      " |  __hash__(self, /)\n",
      " |      Return hash(self).\n",
      " |  \n",
      " |  __le__(self, value, /)\n",
      " |      Return self<=value.\n",
      " |  \n",
      " |  __lt__(self, value, /)\n",
      " |      Return self<value.\n",
      " |  \n",
      " |  __ne__(self, value, /)\n",
      " |      Return self!=value.\n",
      " |  \n",
      " |  __radd__(self, value, /)\n",
      " |      Return value+self.\n",
      " |  \n",
      " |  __reduce__(...)\n",
      " |      __reduce__() -> (cls, state)\n",
      " |  \n",
      " |  __repr__(self, /)\n",
      " |      Return repr(self).\n",
      " |  \n",
      " |  __rsub__(self, value, /)\n",
      " |      Return value-self.\n",
      " |  \n",
      " |  __str__(self, /)\n",
      " |      Return str(self).\n",
      " |  \n",
      " |  __sub__(self, value, /)\n",
      " |      Return self-value.\n",
      " |  \n",
      " |  ctime(...)\n",
      " |      Return ctime() style string.\n",
      " |  \n",
      " |  isocalendar(...)\n",
      " |      Return a 3-tuple containing ISO year, week number, and weekday.\n",
      " |  \n",
      " |  isoformat(...)\n",
      " |      Return string in ISO 8601 format, YYYY-MM-DD.\n",
      " |  \n",
      " |  isoweekday(...)\n",
      " |      Return the day of the week represented by the date.\n",
      " |      Monday == 1 ... Sunday == 7\n",
      " |  \n",
      " |  replace(...)\n",
      " |      Return date with new specified fields.\n",
      " |  \n",
      " |  strftime(...)\n",
      " |      format -> strftime() style string.\n",
      " |  \n",
      " |  timetuple(...)\n",
      " |      Return time tuple, compatible with time.localtime().\n",
      " |  \n",
      " |  toordinal(...)\n",
      " |      Return proleptic Gregorian ordinal.  January 1 of year 1 is day 1.\n",
      " |  \n",
      " |  weekday(...)\n",
      " |      Return the day of the week represented by the date.\n",
      " |      Monday == 0 ... Sunday == 6\n",
      " |  \n",
      " |  ----------------------------------------------------------------------\n",
      " |  Class methods defined here:\n",
      " |  \n",
      " |  fromisoformat(...) from builtins.type\n",
      " |      str -> Construct a date from the output of date.isoformat()\n",
      " |  \n",
      " |  fromordinal(...) from builtins.type\n",
      " |      int -> date corresponding to a proleptic Gregorian ordinal.\n",
      " |  \n",
      " |  fromtimestamp(...) from builtins.type\n",
      " |      timestamp -> local date from a POSIX timestamp (like time.time()).\n",
      " |  \n",
      " |  today(...) from builtins.type\n",
      " |      Current date or datetime:  same as self.__class__.fromtimestamp(time.time()).\n",
      " |  \n",
      " |  ----------------------------------------------------------------------\n",
      " |  Static methods defined here:\n",
      " |  \n",
      " |  __new__(*args, **kwargs) from builtins.type\n",
      " |      Create and return a new object.  See help(type) for accurate signature.\n",
      " |  \n",
      " |  ----------------------------------------------------------------------\n",
      " |  Data descriptors defined here:\n",
      " |  \n",
      " |  day\n",
      " |  \n",
      " |  month\n",
      " |  \n",
      " |  year\n",
      " |  \n",
      " |  ----------------------------------------------------------------------\n",
      " |  Data and other attributes defined here:\n",
      " |  \n",
      " |  max = datetime.date(9999, 12, 31)\n",
      " |  \n",
      " |  min = datetime.date(1, 1, 1)\n",
      " |  \n",
      " |  resolution = datetime.timedelta(days=1)\n",
      "\n"
     ]
    }
   ],
   "source": [
    "import datetime\n",
    "\n",
    "# help(datetime)\n",
    "\n",
    "help(datetime.date)"
   ]
  },
  {
   "cell_type": "markdown",
   "metadata": {},
   "source": [
    "#### dir()\n",
    "\n",
    "    -returns properties and methods of an object\n",
    "\n",
    "<p>"
   ]
  },
  {
   "cell_type": "code",
   "execution_count": 4,
   "metadata": {},
   "outputs": [
    {
     "data": {
      "text/plain": [
       "['__add__',\n",
       " '__class__',\n",
       " '__delattr__',\n",
       " '__dir__',\n",
       " '__doc__',\n",
       " '__eq__',\n",
       " '__format__',\n",
       " '__ge__',\n",
       " '__getattribute__',\n",
       " '__gt__',\n",
       " '__hash__',\n",
       " '__init__',\n",
       " '__init_subclass__',\n",
       " '__le__',\n",
       " '__lt__',\n",
       " '__ne__',\n",
       " '__new__',\n",
       " '__radd__',\n",
       " '__reduce__',\n",
       " '__reduce_ex__',\n",
       " '__repr__',\n",
       " '__rsub__',\n",
       " '__setattr__',\n",
       " '__sizeof__',\n",
       " '__str__',\n",
       " '__sub__',\n",
       " '__subclasshook__',\n",
       " 'ctime',\n",
       " 'day',\n",
       " 'fromisoformat',\n",
       " 'fromordinal',\n",
       " 'fromtimestamp',\n",
       " 'isocalendar',\n",
       " 'isoformat',\n",
       " 'isoweekday',\n",
       " 'max',\n",
       " 'min',\n",
       " 'month',\n",
       " 'replace',\n",
       " 'resolution',\n",
       " 'strftime',\n",
       " 'timetuple',\n",
       " 'today',\n",
       " 'toordinal',\n",
       " 'weekday',\n",
       " 'year']"
      ]
     },
     "execution_count": 4,
     "metadata": {},
     "output_type": "execute_result"
    }
   ],
   "source": [
    "date = datetime.date.today()\n",
    "\n",
    "dir(date)"
   ]
  },
  {
   "cell_type": "code",
   "execution_count": 5,
   "metadata": {},
   "outputs": [
    {
     "name": "stdout",
     "output_type": "stream",
     "text": [
      "2020\n"
     ]
    }
   ],
   "source": [
    "print(date.year)"
   ]
  },
  {
   "cell_type": "markdown",
   "metadata": {},
   "source": [
    "## Grammer\n",
    "\n",
    "<hr>\n",
    "\n",
    "Comments\n",
    "\n",
    "Multiline Statements\n",
    "\n",
    "Code Blocks\n",
    "\n",
    "<hr>"
   ]
  },
  {
   "cell_type": "markdown",
   "metadata": {},
   "source": [
    "    -interpreted\n",
    "    -case sensitive\n",
    "    -source is Unicode (UTF-8) by default\n",
    "        -can change encoding scheme in first or second line\n",
    "    -statements are usually delimited by newline\n",
    "        -LF, CR, CRLF are all accepted as newline\n",
    "        -lines with only whitespace are ignored\n",
    "        -; allows more than one statement on a line\n",
    "    -whitespace is used to delimit tokens\n",
    "        -SPACE, TAB, FF\n",
    "        -only required if concatenating tokens produces ambiguity"
   ]
  },
  {
   "cell_type": "markdown",
   "metadata": {},
   "source": [
    "#### Comments\n",
    "\n",
    "    -end of line comments use #\n",
    "    -docstrings \n",
    "        -may be used as multiline comments\n",
    "        -primarily used for documenting modules, classes, public methods, functions\n",
    "        -''' or \"\"\"\n",
    "\n",
    "<p>"
   ]
  },
  {
   "cell_type": "code",
   "execution_count": 6,
   "metadata": {},
   "outputs": [
    {
     "name": "stdout",
     "output_type": "stream",
     "text": [
      "a\n"
     ]
    },
    {
     "data": {
      "text/plain": [
       "'This is a docstring.'"
      ]
     },
     "execution_count": 6,
     "metadata": {},
     "output_type": "execute_result"
    }
   ],
   "source": [
    "print('a') # This is an end of line comment.\n",
    "'''This is a docstring.'''"
   ]
  },
  {
   "cell_type": "code",
   "execution_count": 7,
   "metadata": {},
   "outputs": [
    {
     "name": "stdout",
     "output_type": "stream",
     "text": [
      "3\n",
      "2\n",
      "1\n"
     ]
    }
   ],
   "source": [
    "A = 1\n",
    "a = 2\n",
    "print(A + a)\n",
    "print(a); print(A)"
   ]
  },
  {
   "cell_type": "markdown",
   "metadata": {},
   "source": [
    "#### Multiline Statements\n",
    "       \n",
    "    -explicit\n",
    "        -\\ is used for joining lines\n",
    "    -newline token is skipped\n",
    "    -tokens are not carried\n",
    "    -end of line comments are not carried\n",
    "    -expressions in parentheses (), {}, [] can be joined over multiple lines implicitly\n",
    "        -no newline token\n",
    "        -\\ not required\n",
    "        -end of line comments are carried\n",
    "        -identation is ignored\n",
    "        \n",
    "<p>"
   ]
  },
  {
   "cell_type": "code",
   "execution_count": 8,
   "metadata": {
    "scrolled": true
   },
   "outputs": [
    {
     "name": "stdout",
     "output_type": "stream",
     "text": [
      "1 2 3\n",
      "1 2 3\n"
     ]
    }
   ],
   "source": [
    "a = 1\n",
    "b = 2\n",
    "c = 3\n",
    "\n",
    "print(a, \\\n",
    "     b, \\\n",
    "     c,)\n",
    "\n",
    "print(a, \n",
    "     b,\n",
    "     c)\n"
   ]
  },
  {
   "cell_type": "markdown",
   "metadata": {},
   "source": [
    "#### Code Blocks\n",
    "\n",
    "    -group of statements executed as unit\n",
    "    -implicit only\n",
    "        -explicit code blocks are not supported\n",
    "    -follows a statement that may contain a group of other statements (i.e. after :)\n",
    "    -delimited by indentation\n",
    "        -leading space represents one indent\n",
    "        -tabs are replaced by spaces\n",
    "        -do not use both spaces and tabs when coding\n",
    "        -the x spaces represented by the tab stop of your editor is not the same as x spaces\n",
    "    -see Flow Control section below\n",
    "\n",
    "<p>"
   ]
  },
  {
   "cell_type": "code",
   "execution_count": 9,
   "metadata": {
    "scrolled": true
   },
   "outputs": [
    {
     "name": "stdout",
     "output_type": "stream",
     "text": [
      "Code Block:\n",
      "True\n"
     ]
    }
   ],
   "source": [
    "if(True):\n",
    "    print('Code Block:')\n",
    "    print('True')\n",
    "else:\n",
    "    print('Code Block:')\n",
    "    print('False')"
   ]
  },
  {
   "cell_type": "code",
   "execution_count": 10,
   "metadata": {},
   "outputs": [
    {
     "name": "stdout",
     "output_type": "stream",
     "text": [
      "a\n"
     ]
    }
   ],
   "source": [
    "print ('a')\n",
    "#    print('b') # Running this will throw an error.\n",
    "#    print('c')"
   ]
  },
  {
   "cell_type": "code",
   "execution_count": 11,
   "metadata": {},
   "outputs": [],
   "source": [
    "    # This indent is a tab and is not the same as the following indent.\n",
    "    # This is 4 indents."
   ]
  },
  {
   "cell_type": "markdown",
   "metadata": {},
   "source": [
    "## Basic Input/Output\n",
    "<hr>\n",
    "\n",
    "print()\n",
    "\n",
    "display()\n",
    "\n",
    "input()\n",
    "\n",
    "<hr>"
   ]
  },
  {
   "cell_type": "markdown",
   "metadata": {},
   "source": [
    "#### print()\n",
    "\n",
    "    -displays __str__() of object to stdout\n",
    "    -displays __repr__() of object if __str__() is not implemented\n",
    "    -defaults to object type and memory location if __repr__() is not implemented\n",
    "    -supports C printf() substitution\n",
    "    -can be used to output a text stream to file\n",
    "    \n",
    "<p>"
   ]
  },
  {
   "cell_type": "code",
   "execution_count": 12,
   "metadata": {},
   "outputs": [
    {
     "name": "stdout",
     "output_type": "stream",
     "text": [
      "Hello World!\n",
      "<__main__.test_class object at 0x0000028E54D2B808>\n",
      "The value of a is 1\n",
      "The value of a is 1.000000\n",
      "The value of a is abc\n"
     ]
    }
   ],
   "source": [
    "print('Hello World!')\n",
    "\n",
    "class test_class:\n",
    "    pass\n",
    "    \n",
    "    '''\n",
    "    def __repr__(self):\n",
    "        return('Hello World __repr__!')\n",
    "    \n",
    "    def __str__(self):\n",
    "        return('Hello World __str__!')\n",
    "    '''\n",
    "\n",
    "t = test_class()\n",
    "print(t)\n",
    "\n",
    "a = 1\n",
    "print('The value of a is %d' %a) # %i or %d represents an integer.\n",
    "print('The value of a is %f' %a) # %f represents a float.\n",
    "\n",
    "a = 'abc'\n",
    "print('The value of a is %s' %a) # %c represents a characther, %s represents a string."
   ]
  },
  {
   "cell_type": "markdown",
   "metadata": {},
   "source": [
    "#### display()\n",
    "\n",
    "    -front end determines representation\n",
    "    -same as print() from command line\n",
    "    \n",
    "<p>"
   ]
  },
  {
   "cell_type": "code",
   "execution_count": 13,
   "metadata": {},
   "outputs": [
    {
     "data": {
      "text/plain": [
       "'Hello World!'"
      ]
     },
     "metadata": {},
     "output_type": "display_data"
    }
   ],
   "source": [
    "display('Hello World!')"
   ]
  },
  {
   "cell_type": "markdown",
   "metadata": {},
   "source": [
    "#### input()\n",
    "\n",
    "    -reads a line from stdin and converts it to a string\n",
    "    \n",
    "<p>"
   ]
  },
  {
   "cell_type": "code",
   "execution_count": 14,
   "metadata": {},
   "outputs": [
    {
     "name": "stdout",
     "output_type": "stream",
     "text": [
      "abc\n"
     ]
    }
   ],
   "source": [
    "# a = input('Enter a value:')\n",
    "print(a)"
   ]
  },
  {
   "cell_type": "markdown",
   "metadata": {},
   "source": [
    "## Literals\n",
    "\n",
    "<hr>\n",
    "\n",
    "int\n",
    "\n",
    "float\n",
    "\n",
    "complex\n",
    "\n",
    "str\n",
    "\n",
    "<hr>"
   ]
  },
  {
   "cell_type": "markdown",
   "metadata": {},
   "source": [
    "#### int\n",
    "    \n",
    "    -no size limit\n",
    "    -can change base with prefixes 0b_, 0o_, 0x (binary, ocatal, hex)\n",
    "    -underscores are ignored and may be used to improve readability\n",
    "    -bool\n",
    "        -subtype of int\n",
    "        -only has 2 values\n",
    "            -True\n",
    "            -False\n",
    "        -behaves as int (1, 0) except when converted to string ('True', 'False')\n",
    "        -falsey - 0, '', None, empty container\n",
    "        -truthy - all other values\n",
    "        -for classes, return value from __bool__()\n",
    "    \n",
    "#### float\n",
    "    \n",
    "    -range is implementation dependent\n",
    "    -use . to cast integers as floats\n",
    "    -separate exponent with e\n",
    "    -always uses 10 as radix\n",
    "    \n",
    "#### complex\n",
    "\n",
    "    -imanginary component is float followed by j\n",
    "    -paired with another float to represent complex number"
   ]
  },
  {
   "cell_type": "code",
   "execution_count": 15,
   "metadata": {},
   "outputs": [
    {
     "name": "stdout",
     "output_type": "stream",
     "text": [
      "<class 'int'>\n",
      "<class 'int'>\n",
      "<class 'int'>\n",
      "<class 'float'>\n",
      "<class 'float'>\n",
      "<class 'int'>\n",
      "<class 'complex'>\n",
      "REAL: 10.0 IMAGINARY: 10.0\n"
     ]
    }
   ],
   "source": [
    "a = 0b_001      # int\n",
    "b = 2           # int\n",
    "c = 100_000_000 # int\n",
    "d = 3.14        # float\n",
    "e = c + d       # float\n",
    "f = int(e)      # int\n",
    "g = 10 + 10j    # complex\n",
    "\n",
    "print(type(a))\n",
    "print(type(b))\n",
    "print(type(c))\n",
    "print(type(d))\n",
    "print(type(e))\n",
    "print(type(f))\n",
    "print(type(g))\n",
    "print('REAL:', g.real,'IMAGINARY:', g.imag)\n"
   ]
  },
  {
   "cell_type": "markdown",
   "metadata": {},
   "source": [
    "#### str\n",
    "    \n",
    "    -sequence of Unicode characters\n",
    "        -bytes is the ASCII version of str\n",
    "        -str.encode(), bytes.decode()\n",
    "    -a character is represented by a str of length 1\n",
    "    -enclosed in either single or double quotes '', \"\"\n",
    "    -zero indexed\n",
    "    -may be sliced\n",
    "    -use \\ as escape character\n",
    "        -nest '\"\"', or \"''\" to reduce the use of \\\n",
    "        -escape sequences are similar to C e.g. \\n, \\t\n",
    "    -consecutive strings separated by whitespace are concatenated\n",
    "    \n",
    "    -f-string\n",
    "        -formatted string\n",
    "        -prefixed with f, F\n",
    "        -expressions delimited by {} are evaluted at runtime\n",
    "    \n",
    "    -r-string\n",
    "        -raw string\n",
    "        -prefixed with r, R\n",
    "        -escape characters are ignored\n",
    "\n",
    "    -triple-quoted string\n",
    "        -commonly used for blocks of text e.g. html\n",
    "        -escape characters are ignored\n",
    "        -newline is ignored\n",
    "\n",
    "    \n"
   ]
  },
  {
   "cell_type": "code",
   "execution_count": 16,
   "metadata": {
    "scrolled": true
   },
   "outputs": [
    {
     "name": "stdout",
     "output_type": "stream",
     "text": [
      "This is a test.\n",
      "s\n",
      "str\n",
      "6\n",
      "This is a 'test'.\n",
      "This is a 'test'.\n",
      "\n",
      "\n",
      "This is after a newline.\n",
      "This is a test.\n",
      "This is a formatted string test.\n",
      "This is a raw string \\'test\\'.\n",
      "Everything (including newlines) is\n",
      "quoted\n"
     ]
    }
   ],
   "source": [
    "print('This is a test.')\n",
    "\n",
    "s = 'string'\n",
    "print(s[0])\n",
    "print(s[0:3])\n",
    "print(len(s))\n",
    "\n",
    "print('This is a \\'test\\'.')\n",
    "print(\"This is a 'test'.\")\n",
    "print('\\n')\n",
    "print('This is after a newline.')\n",
    "print('This' ' is' \" a\" ' test.')\n",
    "\n",
    "\n",
    "a = 'test'\n",
    "print(f'This is a formatted string { a }.')\n",
    "print(r'This is a raw string \\'test\\'.')\n",
    "\n",
    "a = '''Everything (including newlines) is\n",
    "quoted'''\n",
    "print(a)"
   ]
  },
  {
   "cell_type": "markdown",
   "metadata": {},
   "source": [
    "## Variables\n",
    "\n",
    "<hr>\n",
    "\n",
    "Naming\n",
    "\n",
    "Typing\n",
    "\n",
    "Scope\n",
    "\n",
    "<hr>\n",
    "\n",
    "    \n",
    "    "
   ]
  },
  {
   "cell_type": "markdown",
   "metadata": {},
   "source": [
    "#### Naming\n",
    "\n",
    "    -characters a-z, A-Z, 0-9, _\n",
    "    -cannot begin with digit\n",
    "    -v3 allows additional characters outside ASCII range\n",
    "    -no maximum length\n",
    "    -cannot be keyword\n",
    "        -interpreter will not stop you from using a keyword ** be warned **\n",
    "    -reserved names\n",
    "        -_*\n",
    "        -__*__ \n",
    "        -__* \n",
    "        -should only be used in defined circumstances"
   ]
  },
  {
   "cell_type": "code",
   "execution_count": 17,
   "metadata": {},
   "outputs": [
    {
     "name": "stdout",
     "output_type": "stream",
     "text": [
      "None\n"
     ]
    },
    {
     "data": {
      "text/plain": [
       "NoneType"
      ]
     },
     "execution_count": 17,
     "metadata": {},
     "output_type": "execute_result"
    }
   ],
   "source": [
    "abc = None\n",
    "print(abc)\n",
    "type(abc)"
   ]
  },
  {
   "cell_type": "code",
   "execution_count": 18,
   "metadata": {},
   "outputs": [],
   "source": [
    "# type = 1\n",
    "# print(type)\n",
    "# Restart your interpreter after running the above line."
   ]
  },
  {
   "cell_type": "markdown",
   "metadata": {},
   "source": [
    "#### Typing\n",
    "\n",
    "    -loosely typed\n",
    "    -all types are implemented as objects\n",
    "    -primitives are immutable\n",
    "    -use type() operator\n",
    "    -declaration not required\n",
    "    \n",
    "    -primitives\n",
    "        -int, boolean, float, complex, str, bytes\n",
    "    \n",
    "    -container types\n",
    "        -mutable\n",
    "            -list\n",
    "                -ordered sequence of objects\n",
    "                -defined by []\n",
    "                -supports indexing\n",
    "                    -zero-based\n",
    "                    -can index from end of list using negative values\n",
    "                -supports slicing\n",
    "                    -second index is not included in slice\n",
    "                    -if index is not supplied, slice starts at beginning or goes to end\n",
    "                -methods listed at https://docs.python.org/3/library/stdtypes.html#sequence-types-list-tuple-range\n",
    "            -dictionary\n",
    "                -unordered map\n",
    "                -keys can be any immutable type and are distinct\n",
    "                -insertion order is maintained\n",
    "                -defined by {}\n",
    "            -set\n",
    "                -dictionary with no values\n",
    "                -defined by {}\n",
    "        -immutable\n",
    "            -tuple\n",
    "                -ordered sequence of objects\n",
    "                -defined by ()\n",
    "                -supports indexing and slicing\n",
    "            -frozen set\n",
    "                -unordered map with no values\n",
    "                -may be used as dictionary key\n",
    "    \n",
    "    -casting\n",
    "        -int(), bool(), float(), complex(), str(), bytes()\n",
    "        -list(), dict(), set(), tuple(), frozenset()"
   ]
  },
  {
   "cell_type": "code",
   "execution_count": 19,
   "metadata": {},
   "outputs": [
    {
     "name": "stdout",
     "output_type": "stream",
     "text": [
      "<class 'list'>\n",
      "<class 'dict'>\n",
      "<class 'set'>\n",
      "<class 'tuple'>\n",
      "<class 'frozenset'>\n",
      "[0, 1, 2, 3, 4, 5]\n",
      "0\n",
      "5\n",
      "[2, 3]\n",
      "[2, 3, 4, 5]\n",
      "[0, 1, 2, 3, 4, 5, 6]\n",
      "[0, 1, 2, 3, 4, 5, 7]\n",
      "[0, 1, 2, 3, 4, 5]\n",
      "{'a': 'apple', 'b': 'banana', 'c': 'cherry'}\n",
      "apple\n",
      "{'b': 'banana', 'c': 'cherry', 'd': 'durian'}\n",
      "{'b', 'a', 'c'}\n",
      "(1, 2, 3)\n",
      "frozenset({'b', 'a', 'c'})\n"
     ]
    }
   ],
   "source": [
    "l = [0, 1, 2, 3, 4, 5]\n",
    "d = { 'a' : 'apple', 'b' : 'banana', 'c' : 'cherry' }\n",
    "s = { 'a', 'b', 'c' }\n",
    "t = (1, 2, 3)\n",
    "fs = frozenset(s)\n",
    "\n",
    "print(type(l))\n",
    "print(type(d))\n",
    "print(type(s))\n",
    "print(type(t))\n",
    "print(type(fs))\n",
    "\n",
    "print(l)\n",
    "print(l[0])  # Access an element.\n",
    "print(l[-1])\n",
    "print(l[2:4])\n",
    "print(l[2:])\n",
    "l.append(6)  # Add an element.\n",
    "print(l)\n",
    "l[-1] = 7\n",
    "print(l)\n",
    "l.pop(6)     # Remove an element.\n",
    "print(l)\n",
    "print(d)\n",
    "print(d['a'])\n",
    "d['d'] = 'durian'\n",
    "d.pop('a')\n",
    "print(d)\n",
    "print(s)\n",
    "print(t)\n",
    "print(fs)"
   ]
  },
  {
   "cell_type": "code",
   "execution_count": 20,
   "metadata": {},
   "outputs": [
    {
     "name": "stdout",
     "output_type": "stream",
     "text": [
      "1\n"
     ]
    }
   ],
   "source": [
    "number = 1.6\n",
    "number = int(number)\n",
    "print(number)"
   ]
  },
  {
   "cell_type": "markdown",
   "metadata": {},
   "source": [
    "#### Scope\n",
    "\n",
    "    -global\n",
    "        -bound outside function\n",
    "        -visible from anywhere within script or module\n",
    "    -local\n",
    "        -bound in function\n",
    "        -only visible within function and nested functions\n",
    "    -name resolution is done from the nearest scope and follows the path up to to the module\n",
    "        -can use nonlocal or global keywords to change this behaviour (not recommended)\n",
    "<p>"
   ]
  },
  {
   "cell_type": "code",
   "execution_count": 21,
   "metadata": {},
   "outputs": [
    {
     "name": "stdout",
     "output_type": "stream",
     "text": [
      "INNER:\n",
      "3\n",
      "6\n",
      "10\n",
      "OUTER:\n",
      "2\n",
      "5\n",
      "MODULE:\n",
      "1\n"
     ]
    }
   ],
   "source": [
    "a = 1 # global\n",
    "\n",
    "def f_outer():\n",
    "    \n",
    "    a = 2 # local f_outer\n",
    "    b = 5 \n",
    "    \n",
    "    def f_inner():\n",
    "        a = 3 # local f_inner\n",
    "        b = 6\n",
    "        c = 10 \n",
    "        print('INNER:')\n",
    "        print(a)\n",
    "        print(b)\n",
    "        print(c)\n",
    "    \n",
    "    f_inner()\n",
    "    \n",
    "    print('OUTER:')\n",
    "    print(a)\n",
    "    print(b)\n",
    "    #print(c) # c is not visible to f_outer.\n",
    "    \n",
    "f_outer()\n",
    "\n",
    "print('MODULE:')\n",
    "print(a)\n",
    "#print(b) # b is not visible to the script.\n",
    "#print(c) # c is not visible to the script.\n"
   ]
  },
  {
   "cell_type": "markdown",
   "metadata": {},
   "source": [
    "## Operators\n",
    "\n",
    "<hr>\n",
    "\n",
    "    Precedence (Highest to Lowest)\n",
    "    \n",
    "    1. Arithmetic\n",
    "    \n",
    "    2. Bitwise\n",
    "    \n",
    "    3. Relational\n",
    "    \n",
    "    4. Logical\n",
    "    \n",
    "    5. Assignment\n",
    "    \n",
    "<hr>\n",
    "    \n",
    "\n",
    "\n",
    "\n",
    "\n"
   ]
  },
  {
   "cell_type": "markdown",
   "metadata": {},
   "source": [
    "#### Arithmetic\n",
    "\n",
    "    -conversions\n",
    "        -if either operand is complex the other is converted to complex\n",
    "        -if either operand is float the other is converted to float\n",
    "    -+ and * are overloaded for str\n",
    "    \n",
    "<p>"
   ]
  },
  {
   "cell_type": "markdown",
   "metadata": {},
   "source": [
    "<table style='width:100%'>\n",
    "    <tr>\n",
    "        <th style='text-align:left'>Operator</th>\n",
    "        <th style='text-align:left'>Description</th>\n",
    "    </tr>\n",
    "    <tr>\n",
    "        <td style='text-align:left'>-</td>\n",
    "        <td style='text-align:left'>unary negation</td>\n",
    "    </tr>\n",
    "    <tr>\n",
    "        <td style='text-align:left'>**</td>\n",
    "        <td style='text-align:left'>exponentiation</td>\n",
    "    </tr>\n",
    "    <tr>\n",
    "        <td style='text-align:left'>/</td>\n",
    "        <td style='text-align:left'>division</td>\n",
    "    </tr>\n",
    "    <tr>\n",
    "        <td style='text-align:left'>//</td>\n",
    "        <td style='text-align:left'>floor division</td>\n",
    "    </tr>\n",
    "    <tr>\n",
    "        <td style='text-align:left'>%</td>\n",
    "        <td style='text-align:left'>modulo</td>\n",
    "    </tr>\n",
    "    <tr>\n",
    "        <td style='text-align:left'>*</td>\n",
    "        <td style='text-align:left'>multiplication</td>\n",
    "    </tr>\n",
    "    <tr>\n",
    "        <td style='text-align:left'>-</td>\n",
    "        <td style='text-align:left'>subtraction</td>\n",
    "    </tr>\n",
    "    <tr>\n",
    "        <td style='text-align:left'>+</td>\n",
    "        <td style='text-align:left'>addition</td>\n",
    "    </tr>\n",
    "</table>"
   ]
  },
  {
   "cell_type": "code",
   "execution_count": 22,
   "metadata": {},
   "outputs": [
    {
     "name": "stdout",
     "output_type": "stream",
     "text": [
      "a == 1 , b == 5 , c == 2\n",
      "string1 == abc , string2 == def\n",
      "a + b = 6\n",
      "a - b = -4\n",
      "a * b = 5\n",
      "a / b = 0.2\n",
      "b//c = 2\n",
      "b % c = 1\n",
      "a ** b = 1\n",
      "b ** a = 5\n",
      "b ** -a = 0.2\n",
      "string1 + string2 = abcdef\n",
      "string1 * 5 = abcabcabcabcabc\n"
     ]
    }
   ],
   "source": [
    "a = 1\n",
    "b = 5\n",
    "c = 2\n",
    "\n",
    "print('a ==', a, ',', 'b ==', b, ',', 'c ==', c)\n",
    "print('string1 == abc', ',', 'string2 == def')\n",
    "print('a + b =', a + b)\n",
    "print('a - b =', a - b)\n",
    "print('a * b =', a * b)\n",
    "print('a / b =', a / b)\n",
    "print('b//c =', b // c)\n",
    "print('b % c =', b % c)\n",
    "print('a ** b =', a ** b)\n",
    "print('b ** a =', b ** a)\n",
    "print('b ** -a =', b ** -a)\n",
    "\n",
    "string1 = 'abc'\n",
    "string2 = 'def'\n",
    "\n",
    "print('string1 + string2 =', string1 + string2)\n",
    "print('string1 * 5 =', string1 * 5)\n"
   ]
  },
  {
   "cell_type": "markdown",
   "metadata": {},
   "source": [
    "#### Bitwise\n",
    "\n",
    "    -only accept int as arguments\n",
    "\n",
    "<p>"
   ]
  },
  {
   "cell_type": "markdown",
   "metadata": {},
   "source": [
    "<table style='width:100%'>\n",
    "    <tr>\n",
    "        <th style='text-align:left'>Operator</th>\n",
    "        <th style='text-align:left'>Description</th>\n",
    "    </tr>\n",
    "    <tr>\n",
    "        <td style='text-align:left'>~</td>\n",
    "        <td style='text-align:left'>inversion</td>\n",
    "    </tr>\n",
    "    <tr>\n",
    "        <td style='text-align:left'>&gt&gt</td>\n",
    "        <td style='text-align:left'>shift right</td>\n",
    "    </tr>\n",
    "    <tr>\n",
    "        <td style='text-align:left'>&lt&lt</td>\n",
    "        <td style='text-align:left'>shift left</td>\n",
    "    </tr>\n",
    "    <tr>\n",
    "        <td style='text-align:left'>&amp</td>\n",
    "        <td style='text-align:left'>and</td>\n",
    "    </tr>\n",
    "    <tr>\n",
    "        <td style='text-align:left'>^</td>\n",
    "        <td style='text-align:left'>xor</td>\n",
    "    </tr>\n",
    "    <tr>\n",
    "        <td style='text-align:left'>|</td>\n",
    "        <td style='text-align:left'>or</td>\n",
    "    </tr>\n",
    "</table>\n"
   ]
  },
  {
   "cell_type": "code",
   "execution_count": 23,
   "metadata": {},
   "outputs": [
    {
     "name": "stdout",
     "output_type": "stream",
     "text": [
      "a == 0b_001 , b == 0b_011\n",
      "a = 1\n",
      "-a = -1\n",
      "~a = -10\n",
      "a >> 1 = 0\n",
      "a << 1 = 10\n",
      "a & b = 1\n",
      "a ^ b = 10\n",
      "a | b = 11\n"
     ]
    }
   ],
   "source": [
    "a = 0b_001\n",
    "b = 0b_011\n",
    "print('a == 0b_001', ',', 'b == 0b_011')\n",
    "print('a =', format(a, 'b'))\n",
    "print('-a =', format(-a, 'b'))\n",
    "print('~a =', format(~a, 'b')) # -(a + 1)\n",
    "print('a >> 1 =', format(a >> 1, 'b'))\n",
    "print('a << 1 =', format(a << 1, 'b'))\n",
    "print('a & b =', format((a & b), 'b'))\n",
    "print('a ^ b =', format((a ^ b), 'b'))\n",
    "print('a | b =', format((a | b), 'b'))"
   ]
  },
  {
   "cell_type": "markdown",
   "metadata": {},
   "source": [
    "#### Relational (Comparison)\n",
    "\n",
    "    -act on any data type\n",
    "    -return bool True or False\n",
    "    -can be chained\n",
    "    -a < b < c translates to (a < b) and (b < c)\n",
    "    \n",
    "    -primitives (except complex numbers)\n",
    "        -numbers\n",
    "            -compared mathematically without loss of precision\n",
    "            -including classes fractions.Fraction and decimal.Decimal\n",
    "            -comparing to NaN always results in False\n",
    "        -characters\n",
    "            -compared by Unicode code point\n",
    "            -use builtins ord() and its inverse chr()\n",
    "    \n",
    "    -objects \n",
    "        -notion of value is abstract\n",
    "        -comparison inherited from Object\n",
    "        -by default two instances are equal only if they are the same object (id())\n",
    "        -customized by implementing 'rich' comparison methods\n",
    "        -__eq__(), __ne__(), __gt__(), __ge__(), __lt__(), __le__()\n",
    "    \n",
    "    -membership test\n",
    "        -can be used on str\n",
    "            -str is actually a container type\n",
    "            -True is returned if the substring is empty or the substring is found in the string\n",
    "            -equivalent to find()\n",
    "        -can be used on all container types\n",
    "            -for maps keys are checked\n",
    "        -can be used on classes that implement __contains__() or __iter__()\n",
    "        \n",
    "<p>"
   ]
  },
  {
   "cell_type": "markdown",
   "metadata": {},
   "source": [
    "<table style='width:100%'>\n",
    "    <tr>\n",
    "        <th style='text-align:left'>Operator</th>\n",
    "        <th style='text-align:left'>Description</th>\n",
    "    </tr>\n",
    "    <tr>\n",
    "        <td style='text-align:left'>==</td>\n",
    "        <td style='text-align:left'>equal to</td>\n",
    "    </tr>\n",
    "    <tr>\n",
    "        <td style='text-align:left'>!=</td>\n",
    "        <td style='text-align:left'>not equal to</td>\n",
    "    </tr>\n",
    "    <tr>\n",
    "        <td style='text-align:left'>></td>\n",
    "        <td style='text-align:left'>greater than</td>\n",
    "    </tr>\n",
    "    <tr>\n",
    "        <td style='text-align:left'>>=</td>\n",
    "        <td style='text-align:left'>greater than or equal to</td>\n",
    "    </tr>\n",
    "    <tr>\n",
    "        <td style='text-align:left'><</td>\n",
    "        <td style='text-align:left'>less than</td>\n",
    "    </tr>\n",
    "    <tr>\n",
    "        <td style='text-align:left'>&lt=</td>\n",
    "        <td style='text-align:left'>less than or equal to</td>\n",
    "    </tr>\n",
    "    <tr>\n",
    "        <td style='text-align:left'>is</td>\n",
    "        <td style='text-align:left'>object identity</td>\n",
    "    </tr>\n",
    "    <tr>\n",
    "        <td style='text-align:left'>is not</td>\n",
    "        <td style='text-align:left'>object identity</td>\n",
    "    </tr>\n",
    "    <tr>\n",
    "        <td style='text-align:left'>in</td>\n",
    "        <td style='text-align:left'>membership test</td>\n",
    "    </tr>\n",
    "    <tr>\n",
    "        <td style='text-align:left'>not in</td>\n",
    "        <td style='text-align:left'>membership test</td>\n",
    "    </tr>\n",
    "</table>\n"
   ]
  },
  {
   "cell_type": "code",
   "execution_count": 24,
   "metadata": {},
   "outputs": [
    {
     "name": "stdout",
     "output_type": "stream",
     "text": [
      "a == 1 , b == 2\n",
      "a == b: False\n",
      "a != b: True\n",
      "a > b: False\n",
      "a >= b: False\n",
      "a < b: True\n",
      "a <= b: True\n",
      "a == 97\n",
      "A == 65\n",
      "a > A: True\n",
      "abc > acd: False\n",
      "b == 98\n",
      "c == 99\n",
      "string4: 2810289164784\n",
      "string5: 2810331400816\n",
      "string6: 2810289164784\n",
      "array1: 2810331807376\n",
      "array2: 2810312623968\n",
      "string4 == string5: False\n",
      "string4 is string6: True\n",
      "array1 == array2: [[ True  True]\n",
      " [ True  True]]\n",
      "array1 is array2: False\n",
      "a in string4: True\n",
      "a not in dictionary: False\n"
     ]
    }
   ],
   "source": [
    "import numpy as np\n",
    "\n",
    "a = 1\n",
    "b = 2\n",
    "c = 3\n",
    "string1 = 'a'\n",
    "string2 = 'b'\n",
    "string3 = 'A'\n",
    "string4 = 'abc'\n",
    "string5 = 'acd'\n",
    "string6 = 'abc'\n",
    "array1 = np.zeros([2, 2])\n",
    "array2 = np.zeros([2, 2])\n",
    "dictionary = { 'a' : [1, 2, 3], 'b' : [4, 5, 6] }\n",
    "\n",
    "print('a ==', a, ',', 'b ==', b)\n",
    "print('a == b:', a == b)\n",
    "print('a != b:', a != b)\n",
    "print('a > b:', a > b)\n",
    "print('a >= b:', a >= b)\n",
    "print('a < b:', a < b)\n",
    "print('a <= b:', a <= b)\n",
    "\n",
    "print('a ==', ord(string1))\n",
    "print('A ==', ord(string3))\n",
    "print('a > A:', string1 > string3)\n",
    "print('abc > acd:', string4 > string5)\n",
    "print(chr(98), '== 98')\n",
    "print(chr(99), '== 99')\n",
    "\n",
    "print('string4:', id(string4))\n",
    "print('string5:', id(string5))\n",
    "print('string6:', id(string6))\n",
    "print('array1:', id(array1))\n",
    "print('array2:', id(array2))\n",
    "print('string4 == string5:', string4 == string5)\n",
    "print('string4 is string6:', string4 is string6)\n",
    "print('array1 == array2:', array1 == array2) # Equality has been defined for the numpy array class.\n",
    "print('array1 is array2:', array1 is array2)\n",
    "\n",
    "print('a in string4:', 'a' in string4)\n",
    "print('a not in dictionary:', 'a' not in dictionary)"
   ]
  },
  {
   "cell_type": "markdown",
   "metadata": {},
   "source": [
    "#### Logical\n",
    "\n",
    "    -act on any data type\n",
    "    -not inverts the operand returning True or False\n",
    "    -and returns True if both operands evaluate to True\n",
    "    -or returns True if either operand evaluates to True\n",
    "    -short-circuiting is used\n",
    "        -and returns the first value if it evaluates to False\n",
    "        -or returns the frust value if it evaluates to True\n",
    "        -the return value is an operand and not necessarily a bool\n",
    "\n",
    "<p>"
   ]
  },
  {
   "cell_type": "code",
   "execution_count": 25,
   "metadata": {},
   "outputs": [
    {
     "name": "stdout",
     "output_type": "stream",
     "text": [
      "a == True , b == False\n",
      "c == \"True\" , d == \"False\"\n",
      "e == '' , f == None , g == 0 , h == []\n",
      "not c: False\n",
      "not d: False\n",
      "a and a: True\n",
      "a and b: False\n",
      "f and a: None\n",
      "a and f: None\n",
      "a or b: True\n",
      "b or b: False\n",
      "d or e: False\n",
      "b or g: 0\n"
     ]
    }
   ],
   "source": [
    "a = True\n",
    "b = False\n",
    "c = 'True'   # Truthy       \n",
    "d = 'False'  # Truthy\n",
    "e = ''       # Falsey\n",
    "f = None     # Falsey\n",
    "g = 0        # Falsey\n",
    "h = []       # Falsey\n",
    "\n",
    "print('a == True', ',',  'b == False')\n",
    "print('c == \"True\"', ',', 'd == \"False\"')\n",
    "print('e == \\'\\'', ',', 'f == None', ',', 'g == 0', ',', 'h == []')\n",
    "\n",
    "print('not c:', not c)\n",
    "print('not d:', not d)\n",
    "\n",
    "print('a and a:', a and a)\n",
    "print('a and b:', a and b)\n",
    "print('f and a:', f and a)\n",
    "print('a and f:', a and f)\n",
    "\n",
    "print('a or b:', a or b)\n",
    "print('b or b:', b or b)\n",
    "print('d or e:', d or e) # The string 'False' was returned.\n",
    "print('b or g:', b or g)"
   ]
  },
  {
   "cell_type": "markdown",
   "metadata": {},
   "source": [
    "#### Assignment\n",
    "\n",
    "    -used to \n",
    "        -bind a name to a value\n",
    "        -manage items in mutable collection types\n",
    "        -modify attributes\n",
    "    -augmented assignment operators\n",
    "        -shorthand\n",
    "        -e.g. a = a + 2 rewritten as  a += 2\n",
    "    -del() removes bindings\n",
    "    -can assign\n",
    "        -one value to one target\n",
    "        -one value to many targets\n",
    "        -many values to one target\n",
    "            -target is a tuple\n",
    "        -many values to many targets\n",
    "            -unpacking\n",
    "            \n",
    "<p>"
   ]
  },
  {
   "cell_type": "code",
   "execution_count": 26,
   "metadata": {},
   "outputs": [
    {
     "name": "stdout",
     "output_type": "stream",
     "text": [
      "1 += 2: 3\n",
      "3 -= 1: 2\n",
      "2 *= 5: 10\n",
      "10 /= 2: 5.0\n",
      "5 %= 3: 2.0\n",
      "2 ** 3: 8.0\n",
      "1 1 1\n",
      "(1, 2, 3)\n",
      "1 2 3\n"
     ]
    }
   ],
   "source": [
    "a = 1\n",
    "a += 2\n",
    "print('1 += 2:', a)\n",
    "a -= 1\n",
    "print('3 -= 1:', a)\n",
    "a *= 5\n",
    "print('2 *= 5:', a)\n",
    "a /= 2\n",
    "print('10 /= 2:', a)\n",
    "a %= 3\n",
    "print('5 %= 3:',  a)\n",
    "a **= 3\n",
    "print('2 ** 3:', a)\n",
    "\n",
    "del(a)\n",
    "\n",
    "# print(a) # a is no longer bound.\n",
    "\n",
    "a = b = c = 1\n",
    "print(a, b ,c)\n",
    "\n",
    "t = 1, 2, 3\n",
    "print(t)\n",
    "\n",
    "l = [1, 2, 3]\n",
    "a, b, c = l\n",
    "print(a, b, c)"
   ]
  },
  {
   "cell_type": "markdown",
   "metadata": {},
   "source": [
    "## Flow Control\n",
    "\n",
    "<hr>\n",
    "\n",
    "Branching\n",
    "\n",
    "Looping\n",
    "\n",
    "Functions\n",
    "\n",
    "Error Handling\n",
    "\n",
    "<hr>"
   ]
  },
  {
   "cell_type": "markdown",
   "metadata": {},
   "source": [
    "#### Branching\n",
    "\n",
    "    -conditional execution\n",
    "    -if(conditional expression): [elif(conditional expression):]... [else:]\n",
    "        -parentheses around conditional expressions are optional\n",
    "        -if parentheses are not used a space is required\n",
    "        -one code block is executed at most\n",
    "    \n",
    "<p>"
   ]
  },
  {
   "cell_type": "code",
   "execution_count": 27,
   "metadata": {},
   "outputs": [
    {
     "name": "stdout",
     "output_type": "stream",
     "text": [
      "a is neither 1 nor 2\n"
     ]
    }
   ],
   "source": [
    "a = 3\n",
    "\n",
    "if(a == 1):\n",
    "    print('a is 1')\n",
    "elif(a == 2):\n",
    "    print('a is 2')\n",
    "else:\n",
    "    print('a is neither 1 nor 2')\n",
    "    "
   ]
  },
  {
   "cell_type": "markdown",
   "metadata": {},
   "source": [
    "#### Looping\n",
    "\n",
    "    -repeated execution\n",
    "    -loop can be exited with break keyword\n",
    "    -can move to next cycle with continue keyword\n",
    "    \n",
    "    -while(conditional expression): [else:]\n",
    "        -runs if precondition evaluates to True\n",
    "    \n",
    "    -for variable in iterable: [else:]\n",
    "        -runs number of times defined by iterable\n",
    "        -variable is assigned before the code block is run\n",
    "        -do not make changes to the iterable from within the loop ** be warned **\n",
    "\n",
    "<p>        "
   ]
  },
  {
   "cell_type": "code",
   "execution_count": 28,
   "metadata": {},
   "outputs": [
    {
     "name": "stdout",
     "output_type": "stream",
     "text": [
      "1\n",
      "2\n",
      "3\n",
      "4\n",
      "5\n",
      "6\n",
      "7\n",
      "8\n",
      "9\n",
      "10\n",
      "The first while loop has ended.\n",
      "1\n",
      "2\n",
      "3\n",
      "4\n",
      "1\n",
      "2\n",
      "3\n",
      "4\n",
      "6\n",
      "7\n",
      "8\n",
      "9\n",
      "10\n",
      "The third while loop has ended.\n"
     ]
    }
   ],
   "source": [
    "a = 1\n",
    "while(a <= 10):\n",
    "    print(a)\n",
    "    a += 1\n",
    "else:\n",
    "    print('The first while loop has ended.')\n",
    "    \n",
    "a = 1\n",
    "while(a <=10):\n",
    "    if(a == 5):\n",
    "        break\n",
    "    print(a)\n",
    "    a += 1\n",
    "else:\n",
    "    print('The second while loop has ended.')\n",
    "    \n",
    "a = 1\n",
    "while(a <= 10):\n",
    "    if(a == 5):\n",
    "        a += 1\n",
    "        continue\n",
    "    print(a)\n",
    "    a += 1\n",
    "else:\n",
    "    print('The third while loop has ended.')"
   ]
  },
  {
   "cell_type": "code",
   "execution_count": 29,
   "metadata": {},
   "outputs": [
    {
     "name": "stdout",
     "output_type": "stream",
     "text": [
      "0\n",
      "1\n",
      "2\n",
      "3\n",
      "4\n",
      "5\n",
      "6\n",
      "7\n",
      "8\n",
      "9\n",
      "0\n",
      "2\n",
      "4\n",
      "6\n",
      "8\n",
      "apple\n",
      "banana\n",
      "cherry\n",
      "0 apple\n",
      "1 banana\n",
      "2 cherry\n"
     ]
    }
   ],
   "source": [
    "for i in range(10):\n",
    "    print(i)\n",
    "\n",
    "for i in range(0, 10, 2):\n",
    "    print(i)\n",
    "    \n",
    "l = ['apple', 'banana', 'cherry']\n",
    "for fruit in l:\n",
    "    print(f'{ fruit }')\n",
    "\n",
    "for i in range(0, len(l)):\n",
    "    print(i, l[i])"
   ]
  },
  {
   "cell_type": "markdown",
   "metadata": {},
   "source": [
    "#### Functions\n",
    "\n",
    "    -builtin or user-defined code block\n",
    "        - https://docs.python.org/3/library/functions.html\n",
    "        \n",
    "    -called by name\n",
    "        -arguments\n",
    "            -passed positionally or by name\n",
    "            -using a name allows arguments to be passed out of order\n",
    "            -if a mixture of the two is used, positional arguments must be supplied first\n",
    "            -pararmeters may have default values\n",
    "            -can have a variable-length argument\n",
    "                -passed as tuple\n",
    "            -list can be unpacked into arguments using *\n",
    "            -always passed by reference\n",
    "\n",
    "    -def function_name(parameters):\n",
    "        -definition is object that is bound to name when run\n",
    "        -use return keyword to exit function and optionally pass back a value\n",
    "            -value defaults to None\n",
    "        -use yield keyword to exit function and pass back a generator (see Statistics Libraries I.ipynb)\n",
    "        -list can be returned and unpacked\n",
    "\n",
    "    -anonymous functions\n",
    "        -commonly used when passing a function as an argument to another function e.g. map()\n",
    "        -created without using def\n",
    "        -use lambda keyword\n",
    "        -can have any number of arguments\n",
    "        -can only have one expression\n",
    "\n",
    "\n",
    "        \n",
    "<p>"
   ]
  },
  {
   "cell_type": "code",
   "execution_count": 30,
   "metadata": {},
   "outputs": [
    {
     "data": {
      "text/plain": [
       "4"
      ]
     },
     "execution_count": 30,
     "metadata": {},
     "output_type": "execute_result"
    }
   ],
   "source": [
    "abs(-4)"
   ]
  },
  {
   "cell_type": "code",
   "execution_count": 31,
   "metadata": {},
   "outputs": [
    {
     "name": "stdout",
     "output_type": "stream",
     "text": [
      "Help on built-in function print in module builtins:\n",
      "\n",
      "print(...)\n",
      "    print(value, ..., sep=' ', end='\\n', file=sys.stdout, flush=False)\n",
      "    \n",
      "    Prints the values to a stream, or to sys.stdout by default.\n",
      "    Optional keyword arguments:\n",
      "    file:  a file-like object (stream); defaults to the current sys.stdout.\n",
      "    sep:   string inserted between values, default a space.\n",
      "    end:   string appended after the last value, default a newline.\n",
      "    flush: whether to forcibly flush the stream.\n",
      "\n"
     ]
    }
   ],
   "source": [
    "help(print)"
   ]
  },
  {
   "cell_type": "code",
   "execution_count": 32,
   "metadata": {},
   "outputs": [
    {
     "name": "stdout",
     "output_type": "stream",
     "text": [
      "a, b, c\n"
     ]
    }
   ],
   "source": [
    "print('a', 'b', 'c', sep=', ')"
   ]
  },
  {
   "cell_type": "code",
   "execution_count": 33,
   "metadata": {},
   "outputs": [
    {
     "name": "stdout",
     "output_type": "stream",
     "text": [
      "None\n",
      "2.0\n",
      "Help on function sqrt in module __main__:\n",
      "\n",
      "sqrt(number)\n",
      "    Documentation...\n",
      "\n"
     ]
    }
   ],
   "source": [
    "def f():\n",
    "    pass  # pass is used as placehoder to prevent a syntax error.\n",
    "\n",
    "def sqrt(number):\n",
    "    '''Documentation...'''\n",
    "    return number**0.5\n",
    "    \n",
    "result = f()\n",
    "print(result)\n",
    "result = sqrt(4)\n",
    "print(result)\n",
    "help(sqrt)"
   ]
  },
  {
   "cell_type": "code",
   "execution_count": 34,
   "metadata": {},
   "outputs": [
    {
     "name": "stdout",
     "output_type": "stream",
     "text": [
      "1 2 3\n",
      "[1, 4, 9]\n"
     ]
    }
   ],
   "source": [
    "l = [1, 2, 3]\n",
    "\n",
    "squared_list = list(map(lambda x : x ** 2, l))\n",
    "\n",
    "print(*l)\n",
    "print(squared_list)"
   ]
  },
  {
   "cell_type": "markdown",
   "metadata": {},
   "source": [
    "#### Error Handling\n",
    "\n",
    "    -allows script to continue even if a runtime error is encountered\n",
    "    \n",
    "    -exceptions\n",
    "        -may be builtin or user defined\n",
    "        -https://docs.python.org/3/library/exceptions.html#bltin-exceptions\n",
    "        -derived from class BaseException\n",
    "        -can be raised by interpreter or by programmer\n",
    "            -raise keyword\n",
    "                -used to raise the specified exception\n",
    "                -must be Exception object or class\n",
    "                -if class is used constructor is called with no arguments\n",
    "            -assert keyword\n",
    "                -raises an assertion error if conditional evaluates to False\n",
    "                -commonly used to deal with unexpected values\n",
    "    \n",
    "    -exception handling\n",
    "        -try: except[exception as variable]: ... [except:] [finally:]\n",
    "        -each exception handler is tested until a match is found\n",
    "        -a generic exception handler should be placed last\n",
    "        -if no handler is found the exception is passed up the invocation stack\n",
    "        -finally block is executed after the exception has been handled\n",
    "        -control is then passed to first statement after the try block\n",
    "\n",
    "<p>"
   ]
  },
  {
   "cell_type": "code",
   "execution_count": 35,
   "metadata": {},
   "outputs": [],
   "source": [
    "#1 / 0 # The interpreter raises a ZeroDivisionError.\n",
    "#raise RuntimeError # The programmer raises a generic RuntimeError."
   ]
  },
  {
   "cell_type": "code",
   "execution_count": 36,
   "metadata": {},
   "outputs": [
    {
     "name": "stdout",
     "output_type": "stream",
     "text": [
      "Error: weight less than zero\n",
      "The exception was handled and the script can continue.\n"
     ]
    }
   ],
   "source": [
    "weight = -1\n",
    "\n",
    "try:\n",
    "    # 1 / 0\n",
    "    assert weight >= 0, 'weight less than zero'\n",
    "except AssertionError as e:\n",
    "    print(f'Error: { e }')\n",
    "except Exception as e:\n",
    "    print(f'Error: { e }')\n",
    "finally:\n",
    "    print('The exception was handled and the script can continue.')"
   ]
  },
  {
   "cell_type": "markdown",
   "metadata": {},
   "source": [
    "## OOP\n",
    "\n",
    "<hr>\n",
    "\n",
    "Classes\n",
    "\n",
    "Modules\n",
    "\n",
    "<hr>"
   ]
  },
  {
   "cell_type": "markdown",
   "metadata": {},
   "source": [
    "#### Classes\n",
    "\n",
    "    -class class_name(parent_classes):\n",
    "    -names being with a capital letter and use camel case by convention\n",
    "    -__init__() acts as the constructor and is called whenever an instance is created\n",
    "    \n",
    "    -class attributes\n",
    "        -value is the same for all instances\n",
    "        -assigned outside methods\n",
    "        -masked by instance attributes with the same name\n",
    "        -commonly used to hold constants, default values\n",
    "        -should not be mutable ** be warned **\n",
    "    \n",
    "    -instance attributes\n",
    "        -values can be different for each instance\n",
    "        -assigned within methods\n",
    "            -usually when __init__() is run\n",
    "        -use self reference\n",
    "    \n",
    "    -methods\n",
    "        -functions defined within class\n",
    "        -first parameter in call is a reference to the instance itself and is implied\n",
    "        -first parameter in definition is a reference to the instance itself and is explicit\n",
    "            -named self by convention\n",
    "            -equivalent to this keyword in C++/Java\n",
    "        -__*__()\n",
    "            -methods such as __init__(), __str__() are called implicity under certain circumstances\n",
    "            -see https://docs.python.org/3/reference/datamodel.html#special-method-names\n",
    "            -provides support for operator overloading\n",
    "            -e.g. > results in a call to __gt__()\n",
    "\n",
    "    -inheritance\n",
    "        -Object is an implied parent class\n",
    "        -multiple inheritance is supported\n",
    "        -when overriding a method use super() to access the parent's method\n",
    "        -abstract classes are not used\n",
    "            -sole purpose of inheritance is to re-use code from parents\n",
    "            -no interfaces\n",
    "        \n",
    "<p>"
   ]
  },
  {
   "cell_type": "code",
   "execution_count": 37,
   "metadata": {},
   "outputs": [
    {
     "name": "stdout",
     "output_type": "stream",
     "text": [
      "SQUARE\n",
      "Side: 2\n",
      "Perimiter: 8\n",
      "Area: 4\n",
      "A square is a quadrilateral.\n",
      "\n",
      "RECTANGLE\n",
      "Length: 4\n",
      "Width: 2\n",
      "Perimiter: 12\n",
      "Area: 8\n",
      "A rectangle is a quadrilateral.\n",
      "\n",
      "True\n",
      "False\n"
     ]
    }
   ],
   "source": [
    "class Shape():\n",
    "    pass\n",
    "\n",
    "class Quadrilateral(Shape):\n",
    "    \n",
    "    total_sides = 4\n",
    "    total_vertices = 4\n",
    "    interior_angles = 360\n",
    "    \n",
    "    def category(self):\n",
    "        return('quadrilateral')\n",
    "    \n",
    "class Square(Quadrilateral):\n",
    "    \n",
    "    def __init__(self, side):\n",
    "        self.side = side\n",
    "        \n",
    "    def __eq__(self, operand_2):\n",
    "        if(self.side == operand_2.side):\n",
    "            return True\n",
    "        else:\n",
    "            return False\n",
    "             \n",
    "    def perimiter(self):\n",
    "        p = 4 * self.side\n",
    "        return p\n",
    "    \n",
    "    def area(self):\n",
    "        a = self.side ** 2\n",
    "        return a\n",
    "    \n",
    "    def category(self):\n",
    "        print(f'A square is a { super().category() }.')\n",
    "        return ''\n",
    "    \n",
    "class Rectangle(Quadrilateral):\n",
    "    \n",
    "    def __init__(self, length, width):\n",
    "        self.length = length\n",
    "        self.width = width\n",
    "        \n",
    "    def perimiter(self):\n",
    "        p = 2 * self.length + 2 * self.width\n",
    "        return p\n",
    "    \n",
    "    def area(self):\n",
    "        a = self.length * self.width\n",
    "        return a\n",
    "\n",
    "    def category(self):\n",
    "        print(f'A rectangle is a { super().category() }.')\n",
    "        return ''\n",
    "    \n",
    "square1 = Square(2)\n",
    "print('SQUARE')\n",
    "print(f'Side: { square1.side }')\n",
    "print(f'Perimiter: { square1.perimiter() }')\n",
    "print(f'Area: { square1.area() }')\n",
    "print(square1.category())\n",
    "\n",
    "\n",
    "rectangle1 = Rectangle(4, 2)\n",
    "print('RECTANGLE')\n",
    "print(f'Length: { rectangle1.length }')\n",
    "print(f'Width: { rectangle1.width }')\n",
    "print(f'Perimiter: { rectangle1.perimiter() }')\n",
    "print(f'Area: { rectangle1.area() }')\n",
    "print(rectangle1.category())\n",
    "\n",
    "square2 = Square(2)\n",
    "square3 = Square(4)\n",
    "\n",
    "print(square1 == square2)\n",
    "print(square2 == square3)"
   ]
  },
  {
   "cell_type": "code",
   "execution_count": 38,
   "metadata": {},
   "outputs": [
    {
     "name": "stdout",
     "output_type": "stream",
     "text": [
      "1\n"
     ]
    }
   ],
   "source": [
    "l = [1, 2, 3]\n",
    "i = l.__iter__()\n",
    "print(next(i))"
   ]
  },
  {
   "cell_type": "markdown",
   "metadata": {},
   "source": [
    "#### Modules\n",
    "\n",
    "    -every Python file is a module\n",
    "    -module has same name as file\n",
    "    -use keyword import to access contents of module\n",
    "        -search is made\n",
    "            -working directory\n",
    "            -PYTHONPATH environment variable\n",
    "            -custom path\n",
    "        -module is loaded\n",
    "    -from keyword allows individual objects from a module to be loaded into the current namespace\n",
    "        -avoid import *\n",
    "            -all objects except those beginning with _ are loaded\n",
    "            -unnecessarily clutters the current namespace\n",
    "            -may overwrite existing names\n",
    "    -as keyword allows aliasing\n",
    "    -when creating modules for import prevent code outside class definitions from running as below\n",
    "\n",
    "<p>"
   ]
  },
  {
   "cell_type": "code",
   "execution_count": 39,
   "metadata": {},
   "outputs": [
    {
     "name": "stdout",
     "output_type": "stream",
     "text": [
      "2020-07-16 14:36:00.742057\n",
      "2020-07-16\n"
     ]
    }
   ],
   "source": [
    "import datetime\n",
    "\n",
    "print(datetime.datetime.now())\n",
    "\n",
    "from datetime import date\n",
    "\n",
    "print(date.today())"
   ]
  },
  {
   "cell_type": "code",
   "execution_count": 40,
   "metadata": {},
   "outputs": [
    {
     "name": "stdout",
     "output_type": "stream",
     "text": [
      "Script entry point...\n"
     ]
    }
   ],
   "source": [
    "if __name__ == '__main__':\n",
    "    print('Script entry point...')"
   ]
  }
 ],
 "metadata": {
  "kernelspec": {
   "display_name": "Python 3",
   "language": "python",
   "name": "python3"
  },
  "language_info": {
   "codemirror_mode": {
    "name": "ipython",
    "version": 3
   },
   "file_extension": ".py",
   "mimetype": "text/x-python",
   "name": "python",
   "nbconvert_exporter": "python",
   "pygments_lexer": "ipython3",
   "version": "3.7.6"
  }
 },
 "nbformat": 4,
 "nbformat_minor": 4
}
